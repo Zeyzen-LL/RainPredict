{
 "cells": [
  {
   "cell_type": "code",
   "execution_count": 1,
   "metadata": {
    "_cell_guid": "b1076dfc-b9ad-4769-8c92-a6c4dae69d19",
    "_uuid": "8f2839f25d086af736a60e9eeb907d3b93b6e0e5",
    "execution": {
     "iopub.execute_input": "2020-12-14T21:21:25.651821Z",
     "iopub.status.busy": "2020-12-14T21:21:25.651006Z",
     "iopub.status.idle": "2020-12-14T21:21:26.759658Z",
     "shell.execute_reply": "2020-12-14T21:21:26.757457Z"
    },
    "papermill": {
     "duration": 1.156025,
     "end_time": "2020-12-14T21:21:26.759850",
     "exception": false,
     "start_time": "2020-12-14T21:21:25.603825",
     "status": "completed"
    },
    "tags": []
   },
   "outputs": [
    {
     "name": "stdout",
     "output_type": "stream",
     "text": [
      "/kaggle/input/weatheraus/weatherAUS.csv\n"
     ]
    }
   ],
   "source": [
    "import numpy as np \n",
    "import pandas as pd\n",
    "import seaborn as sns\n",
    "import matplotlib.pyplot as plt\n",
    "\n",
    "import os\n",
    "for dirname, _, filenames in os.walk('/kaggle/input'):\n",
    "    for filename in filenames:\n",
    "        print(os.path.join(dirname, filename))\n"
   ]
  },
  {
   "cell_type": "markdown",
   "metadata": {
    "papermill": {
     "duration": 0.038029,
     "end_time": "2020-12-14T21:21:26.838365",
     "exception": false,
     "start_time": "2020-12-14T21:21:26.800336",
     "status": "completed"
    },
    "tags": []
   },
   "source": [
    "Günlük nem oranı hesaplamak için gün içindeki nem oranlarının ortalamasını alan fonksiyon"
   ]
  },
  {
   "cell_type": "code",
   "execution_count": 2,
   "metadata": {
    "execution": {
     "iopub.execute_input": "2020-12-14T21:21:26.923138Z",
     "iopub.status.busy": "2020-12-14T21:21:26.922178Z",
     "iopub.status.idle": "2020-12-14T21:21:26.925369Z",
     "shell.execute_reply": "2020-12-14T21:21:26.924787Z"
    },
    "papermill": {
     "duration": 0.048804,
     "end_time": "2020-12-14T21:21:26.925500",
     "exception": false,
     "start_time": "2020-12-14T21:21:26.876696",
     "status": "completed"
    },
    "tags": []
   },
   "outputs": [],
   "source": [
    "def humidityAvg(humidityAM, humidityPM):\n",
    "    humidity = []\n",
    "    for i in range(len(humidityPM)):\n",
    "        humidity.append((humidityAM[i]+humidityPM[i])/2)\n",
    "    humidity = np.array(humidity)\n",
    "    return humidity"
   ]
  },
  {
   "cell_type": "code",
   "execution_count": 3,
   "metadata": {
    "_cell_guid": "79c7e3d0-c299-4dcb-8224-4455121ee9b0",
    "_uuid": "d629ff2d2480ee46fbb7e2d37f6b5fab8052498a",
    "execution": {
     "iopub.execute_input": "2020-12-14T21:21:27.009906Z",
     "iopub.status.busy": "2020-12-14T21:21:27.009148Z",
     "iopub.status.idle": "2020-12-14T21:21:27.653720Z",
     "shell.execute_reply": "2020-12-14T21:21:27.653049Z"
    },
    "papermill": {
     "duration": 0.68937,
     "end_time": "2020-12-14T21:21:27.653868",
     "exception": false,
     "start_time": "2020-12-14T21:21:26.964498",
     "status": "completed"
    },
    "tags": []
   },
   "outputs": [],
   "source": [
    "datafile = pd.read_csv(\"../input/weatheraus/weatherAUS.csv\")"
   ]
  },
  {
   "cell_type": "markdown",
   "metadata": {
    "papermill": {
     "duration": 0.039145,
     "end_time": "2020-12-14T21:21:27.732518",
     "exception": false,
     "start_time": "2020-12-14T21:21:27.693373",
     "status": "completed"
    },
    "tags": []
   },
   "source": [
    "**Veri Analizi**"
   ]
  },
  {
   "cell_type": "code",
   "execution_count": 4,
   "metadata": {
    "execution": {
     "iopub.execute_input": "2020-12-14T21:21:27.844497Z",
     "iopub.status.busy": "2020-12-14T21:21:27.843621Z",
     "iopub.status.idle": "2020-12-14T21:21:27.862230Z",
     "shell.execute_reply": "2020-12-14T21:21:27.861598Z"
    },
    "papermill": {
     "duration": 0.091013,
     "end_time": "2020-12-14T21:21:27.862357",
     "exception": false,
     "start_time": "2020-12-14T21:21:27.771344",
     "status": "completed"
    },
    "tags": []
   },
   "outputs": [
    {
     "data": {
      "text/html": [
       "<div>\n",
       "<style scoped>\n",
       "    .dataframe tbody tr th:only-of-type {\n",
       "        vertical-align: middle;\n",
       "    }\n",
       "\n",
       "    .dataframe tbody tr th {\n",
       "        vertical-align: top;\n",
       "    }\n",
       "\n",
       "    .dataframe thead th {\n",
       "        text-align: right;\n",
       "    }\n",
       "</style>\n",
       "<table border=\"1\" class=\"dataframe\">\n",
       "  <thead>\n",
       "    <tr style=\"text-align: right;\">\n",
       "      <th></th>\n",
       "      <th>Date</th>\n",
       "      <th>Location</th>\n",
       "      <th>MinTemp</th>\n",
       "      <th>MaxTemp</th>\n",
       "      <th>Rainfall</th>\n",
       "      <th>Evaporation</th>\n",
       "      <th>Sunshine</th>\n",
       "      <th>WindGustDir</th>\n",
       "      <th>WindGustSpeed</th>\n",
       "      <th>WindDir9am</th>\n",
       "      <th>...</th>\n",
       "      <th>Humidity9am</th>\n",
       "      <th>Humidity3pm</th>\n",
       "      <th>Pressure9am</th>\n",
       "      <th>Pressure3pm</th>\n",
       "      <th>Cloud9am</th>\n",
       "      <th>Cloud3pm</th>\n",
       "      <th>Temp9am</th>\n",
       "      <th>Temp3pm</th>\n",
       "      <th>RainToday</th>\n",
       "      <th>RainTomorrow</th>\n",
       "    </tr>\n",
       "  </thead>\n",
       "  <tbody>\n",
       "    <tr>\n",
       "      <th>0</th>\n",
       "      <td>2009-01-01</td>\n",
       "      <td>Albury</td>\n",
       "      <td>11.3</td>\n",
       "      <td>26.5</td>\n",
       "      <td>0.0</td>\n",
       "      <td>NaN</td>\n",
       "      <td>NaN</td>\n",
       "      <td>WNW</td>\n",
       "      <td>56.0</td>\n",
       "      <td>W</td>\n",
       "      <td>...</td>\n",
       "      <td>46.0</td>\n",
       "      <td>26.0</td>\n",
       "      <td>1004.5</td>\n",
       "      <td>1003.2</td>\n",
       "      <td>NaN</td>\n",
       "      <td>NaN</td>\n",
       "      <td>19.7</td>\n",
       "      <td>25.7</td>\n",
       "      <td>No</td>\n",
       "      <td>No</td>\n",
       "    </tr>\n",
       "    <tr>\n",
       "      <th>1</th>\n",
       "      <td>2009-01-02</td>\n",
       "      <td>Albury</td>\n",
       "      <td>9.6</td>\n",
       "      <td>23.9</td>\n",
       "      <td>0.0</td>\n",
       "      <td>NaN</td>\n",
       "      <td>NaN</td>\n",
       "      <td>W</td>\n",
       "      <td>41.0</td>\n",
       "      <td>WSW</td>\n",
       "      <td>...</td>\n",
       "      <td>44.0</td>\n",
       "      <td>22.0</td>\n",
       "      <td>1014.4</td>\n",
       "      <td>1013.1</td>\n",
       "      <td>NaN</td>\n",
       "      <td>NaN</td>\n",
       "      <td>14.9</td>\n",
       "      <td>22.1</td>\n",
       "      <td>No</td>\n",
       "      <td>No</td>\n",
       "    </tr>\n",
       "    <tr>\n",
       "      <th>2</th>\n",
       "      <td>2009-01-03</td>\n",
       "      <td>Albury</td>\n",
       "      <td>10.5</td>\n",
       "      <td>28.8</td>\n",
       "      <td>0.0</td>\n",
       "      <td>NaN</td>\n",
       "      <td>NaN</td>\n",
       "      <td>SSE</td>\n",
       "      <td>26.0</td>\n",
       "      <td>SSE</td>\n",
       "      <td>...</td>\n",
       "      <td>43.0</td>\n",
       "      <td>22.0</td>\n",
       "      <td>1018.7</td>\n",
       "      <td>1014.8</td>\n",
       "      <td>NaN</td>\n",
       "      <td>NaN</td>\n",
       "      <td>17.1</td>\n",
       "      <td>26.5</td>\n",
       "      <td>No</td>\n",
       "      <td>No</td>\n",
       "    </tr>\n",
       "    <tr>\n",
       "      <th>3</th>\n",
       "      <td>2009-01-04</td>\n",
       "      <td>Albury</td>\n",
       "      <td>12.3</td>\n",
       "      <td>34.6</td>\n",
       "      <td>0.0</td>\n",
       "      <td>NaN</td>\n",
       "      <td>NaN</td>\n",
       "      <td>WNW</td>\n",
       "      <td>37.0</td>\n",
       "      <td>SSE</td>\n",
       "      <td>...</td>\n",
       "      <td>41.0</td>\n",
       "      <td>12.0</td>\n",
       "      <td>1015.1</td>\n",
       "      <td>1010.3</td>\n",
       "      <td>NaN</td>\n",
       "      <td>NaN</td>\n",
       "      <td>20.7</td>\n",
       "      <td>33.9</td>\n",
       "      <td>No</td>\n",
       "      <td>No</td>\n",
       "    </tr>\n",
       "    <tr>\n",
       "      <th>4</th>\n",
       "      <td>2009-01-05</td>\n",
       "      <td>Albury</td>\n",
       "      <td>12.9</td>\n",
       "      <td>35.8</td>\n",
       "      <td>0.0</td>\n",
       "      <td>NaN</td>\n",
       "      <td>NaN</td>\n",
       "      <td>WNW</td>\n",
       "      <td>41.0</td>\n",
       "      <td>ENE</td>\n",
       "      <td>...</td>\n",
       "      <td>41.0</td>\n",
       "      <td>9.0</td>\n",
       "      <td>1012.6</td>\n",
       "      <td>1009.2</td>\n",
       "      <td>NaN</td>\n",
       "      <td>NaN</td>\n",
       "      <td>22.4</td>\n",
       "      <td>34.4</td>\n",
       "      <td>No</td>\n",
       "      <td>No</td>\n",
       "    </tr>\n",
       "  </tbody>\n",
       "</table>\n",
       "<p>5 rows × 23 columns</p>\n",
       "</div>"
      ],
      "text/plain": [
       "         Date Location  MinTemp  MaxTemp  Rainfall  Evaporation  Sunshine  \\\n",
       "0  2009-01-01   Albury     11.3     26.5       0.0          NaN       NaN   \n",
       "1  2009-01-02   Albury      9.6     23.9       0.0          NaN       NaN   \n",
       "2  2009-01-03   Albury     10.5     28.8       0.0          NaN       NaN   \n",
       "3  2009-01-04   Albury     12.3     34.6       0.0          NaN       NaN   \n",
       "4  2009-01-05   Albury     12.9     35.8       0.0          NaN       NaN   \n",
       "\n",
       "  WindGustDir  WindGustSpeed WindDir9am  ... Humidity9am  Humidity3pm  \\\n",
       "0         WNW           56.0          W  ...        46.0         26.0   \n",
       "1           W           41.0        WSW  ...        44.0         22.0   \n",
       "2         SSE           26.0        SSE  ...        43.0         22.0   \n",
       "3         WNW           37.0        SSE  ...        41.0         12.0   \n",
       "4         WNW           41.0        ENE  ...        41.0          9.0   \n",
       "\n",
       "   Pressure9am  Pressure3pm  Cloud9am  Cloud3pm  Temp9am  Temp3pm  RainToday  \\\n",
       "0       1004.5       1003.2       NaN       NaN     19.7     25.7         No   \n",
       "1       1014.4       1013.1       NaN       NaN     14.9     22.1         No   \n",
       "2       1018.7       1014.8       NaN       NaN     17.1     26.5         No   \n",
       "3       1015.1       1010.3       NaN       NaN     20.7     33.9         No   \n",
       "4       1012.6       1009.2       NaN       NaN     22.4     34.4         No   \n",
       "\n",
       "   RainTomorrow  \n",
       "0            No  \n",
       "1            No  \n",
       "2            No  \n",
       "3            No  \n",
       "4            No  \n",
       "\n",
       "[5 rows x 23 columns]"
      ]
     },
     "execution_count": 4,
     "metadata": {},
     "output_type": "execute_result"
    }
   ],
   "source": [
    "datafile.head()"
   ]
  },
  {
   "cell_type": "code",
   "execution_count": 5,
   "metadata": {
    "execution": {
     "iopub.execute_input": "2020-12-14T21:21:27.947767Z",
     "iopub.status.busy": "2020-12-14T21:21:27.946935Z",
     "iopub.status.idle": "2020-12-14T21:21:27.951351Z",
     "shell.execute_reply": "2020-12-14T21:21:27.950748Z"
    },
    "papermill": {
     "duration": 0.049219,
     "end_time": "2020-12-14T21:21:27.951472",
     "exception": false,
     "start_time": "2020-12-14T21:21:27.902253",
     "status": "completed"
    },
    "tags": []
   },
   "outputs": [
    {
     "data": {
      "text/plain": [
       "(145429, 23)"
      ]
     },
     "execution_count": 5,
     "metadata": {},
     "output_type": "execute_result"
    }
   ],
   "source": [
    "datafile.shape"
   ]
  },
  {
   "cell_type": "code",
   "execution_count": 6,
   "metadata": {
    "execution": {
     "iopub.execute_input": "2020-12-14T21:21:28.040962Z",
     "iopub.status.busy": "2020-12-14T21:21:28.040021Z",
     "iopub.status.idle": "2020-12-14T21:21:28.044848Z",
     "shell.execute_reply": "2020-12-14T21:21:28.044128Z"
    },
    "papermill": {
     "duration": 0.053007,
     "end_time": "2020-12-14T21:21:28.044972",
     "exception": false,
     "start_time": "2020-12-14T21:21:27.991965",
     "status": "completed"
    },
    "tags": []
   },
   "outputs": [
    {
     "data": {
      "text/plain": [
       "Date              object\n",
       "Location          object\n",
       "MinTemp          float64\n",
       "MaxTemp          float64\n",
       "Rainfall         float64\n",
       "Evaporation      float64\n",
       "Sunshine         float64\n",
       "WindGustDir       object\n",
       "WindGustSpeed    float64\n",
       "WindDir9am        object\n",
       "WindDir3pm        object\n",
       "WindSpeed9am     float64\n",
       "WindSpeed3pm     float64\n",
       "Humidity9am      float64\n",
       "Humidity3pm      float64\n",
       "Pressure9am      float64\n",
       "Pressure3pm      float64\n",
       "Cloud9am         float64\n",
       "Cloud3pm         float64\n",
       "Temp9am          float64\n",
       "Temp3pm          float64\n",
       "RainToday         object\n",
       "RainTomorrow      object\n",
       "dtype: object"
      ]
     },
     "execution_count": 6,
     "metadata": {},
     "output_type": "execute_result"
    }
   ],
   "source": [
    "datafile.dtypes"
   ]
  },
  {
   "cell_type": "markdown",
   "metadata": {
    "papermill": {
     "duration": 0.040499,
     "end_time": "2020-12-14T21:21:28.128184",
     "exception": false,
     "start_time": "2020-12-14T21:21:28.087685",
     "status": "completed"
    },
    "tags": []
   },
   "source": [
    "humidityAVG fonk çağrılması"
   ]
  },
  {
   "cell_type": "code",
   "execution_count": 7,
   "metadata": {
    "execution": {
     "iopub.execute_input": "2020-12-14T21:21:28.262489Z",
     "iopub.status.busy": "2020-12-14T21:21:28.257341Z",
     "iopub.status.idle": "2020-12-14T21:21:28.306659Z",
     "shell.execute_reply": "2020-12-14T21:21:28.305944Z"
    },
    "papermill": {
     "duration": 0.137463,
     "end_time": "2020-12-14T21:21:28.306783",
     "exception": false,
     "start_time": "2020-12-14T21:21:28.169320",
     "status": "completed"
    },
    "tags": []
   },
   "outputs": [],
   "source": [
    "humidity = humidityAvg(datafile[\"Humidity9am\"].tolist(),datafile[\"Humidity3pm\"].tolist())\n",
    "datafile[\"humAvg\"] = humidity"
   ]
  },
  {
   "cell_type": "code",
   "execution_count": 8,
   "metadata": {
    "execution": {
     "iopub.execute_input": "2020-12-14T21:21:28.396104Z",
     "iopub.status.busy": "2020-12-14T21:21:28.395275Z",
     "iopub.status.idle": "2020-12-14T21:21:28.430668Z",
     "shell.execute_reply": "2020-12-14T21:21:28.429902Z"
    },
    "papermill": {
     "duration": 0.082914,
     "end_time": "2020-12-14T21:21:28.430802",
     "exception": false,
     "start_time": "2020-12-14T21:21:28.347888",
     "status": "completed"
    },
    "tags": []
   },
   "outputs": [],
   "source": [
    "# Sınıflandırma için kullanılmayacak niteliklerin veri setinden çıkarılması\n",
    "datafile = datafile.drop([\"Sunshine\",\"Evaporation\",\"WindGustDir\",\"WindGustSpeed\",\"WindDir9am\",\"WindDir3pm\",\"WindSpeed9am\",\"WindSpeed3pm\",\"Humidity9am\",\"Humidity3pm\",\"Pressure9am\",\"Pressure3pm\",\"Cloud9am\",\"Cloud3pm\",\"RainTomorrow\"], axis=1)\n"
   ]
  },
  {
   "cell_type": "code",
   "execution_count": 9,
   "metadata": {
    "execution": {
     "iopub.execute_input": "2020-12-14T21:21:28.526197Z",
     "iopub.status.busy": "2020-12-14T21:21:28.525427Z",
     "iopub.status.idle": "2020-12-14T21:21:28.586843Z",
     "shell.execute_reply": "2020-12-14T21:21:28.586123Z"
    },
    "papermill": {
     "duration": 0.114763,
     "end_time": "2020-12-14T21:21:28.586968",
     "exception": false,
     "start_time": "2020-12-14T21:21:28.472205",
     "status": "completed"
    },
    "tags": []
   },
   "outputs": [
    {
     "data": {
      "text/html": [
       "<div>\n",
       "<style scoped>\n",
       "    .dataframe tbody tr th:only-of-type {\n",
       "        vertical-align: middle;\n",
       "    }\n",
       "\n",
       "    .dataframe tbody tr th {\n",
       "        vertical-align: top;\n",
       "    }\n",
       "\n",
       "    .dataframe thead th {\n",
       "        text-align: right;\n",
       "    }\n",
       "</style>\n",
       "<table border=\"1\" class=\"dataframe\">\n",
       "  <thead>\n",
       "    <tr style=\"text-align: right;\">\n",
       "      <th></th>\n",
       "      <th>MinTemp</th>\n",
       "      <th>MaxTemp</th>\n",
       "      <th>Rainfall</th>\n",
       "      <th>Temp9am</th>\n",
       "      <th>Temp3pm</th>\n",
       "      <th>humAvg</th>\n",
       "    </tr>\n",
       "  </thead>\n",
       "  <tbody>\n",
       "    <tr>\n",
       "      <th>count</th>\n",
       "      <td>143944.000000</td>\n",
       "      <td>144168.000000</td>\n",
       "      <td>142169.000000</td>\n",
       "      <td>143662.000000</td>\n",
       "      <td>141820.000000</td>\n",
       "      <td>140155.000000</td>\n",
       "    </tr>\n",
       "    <tr>\n",
       "      <th>mean</th>\n",
       "      <td>12.193751</td>\n",
       "      <td>23.220473</td>\n",
       "      <td>2.361037</td>\n",
       "      <td>16.990199</td>\n",
       "      <td>21.682553</td>\n",
       "      <td>60.157469</td>\n",
       "    </tr>\n",
       "    <tr>\n",
       "      <th>std</th>\n",
       "      <td>6.398955</td>\n",
       "      <td>7.119290</td>\n",
       "      <td>8.478716</td>\n",
       "      <td>6.489219</td>\n",
       "      <td>6.936822</td>\n",
       "      <td>18.181012</td>\n",
       "    </tr>\n",
       "    <tr>\n",
       "      <th>min</th>\n",
       "      <td>-8.500000</td>\n",
       "      <td>-4.800000</td>\n",
       "      <td>0.000000</td>\n",
       "      <td>-7.200000</td>\n",
       "      <td>-5.400000</td>\n",
       "      <td>0.000000</td>\n",
       "    </tr>\n",
       "    <tr>\n",
       "      <th>25%</th>\n",
       "      <td>7.600000</td>\n",
       "      <td>17.900000</td>\n",
       "      <td>0.000000</td>\n",
       "      <td>12.300000</td>\n",
       "      <td>16.600000</td>\n",
       "      <td>48.500000</td>\n",
       "    </tr>\n",
       "    <tr>\n",
       "      <th>50%</th>\n",
       "      <td>12.000000</td>\n",
       "      <td>22.600000</td>\n",
       "      <td>0.000000</td>\n",
       "      <td>16.700000</td>\n",
       "      <td>21.100000</td>\n",
       "      <td>61.500000</td>\n",
       "    </tr>\n",
       "    <tr>\n",
       "      <th>75%</th>\n",
       "      <td>16.900000</td>\n",
       "      <td>28.200000</td>\n",
       "      <td>0.800000</td>\n",
       "      <td>21.600000</td>\n",
       "      <td>26.400000</td>\n",
       "      <td>73.000000</td>\n",
       "    </tr>\n",
       "    <tr>\n",
       "      <th>max</th>\n",
       "      <td>33.900000</td>\n",
       "      <td>48.100000</td>\n",
       "      <td>371.000000</td>\n",
       "      <td>40.200000</td>\n",
       "      <td>46.700000</td>\n",
       "      <td>100.000000</td>\n",
       "    </tr>\n",
       "  </tbody>\n",
       "</table>\n",
       "</div>"
      ],
      "text/plain": [
       "             MinTemp        MaxTemp       Rainfall        Temp9am  \\\n",
       "count  143944.000000  144168.000000  142169.000000  143662.000000   \n",
       "mean       12.193751      23.220473       2.361037      16.990199   \n",
       "std         6.398955       7.119290       8.478716       6.489219   \n",
       "min        -8.500000      -4.800000       0.000000      -7.200000   \n",
       "25%         7.600000      17.900000       0.000000      12.300000   \n",
       "50%        12.000000      22.600000       0.000000      16.700000   \n",
       "75%        16.900000      28.200000       0.800000      21.600000   \n",
       "max        33.900000      48.100000     371.000000      40.200000   \n",
       "\n",
       "             Temp3pm         humAvg  \n",
       "count  141820.000000  140155.000000  \n",
       "mean       21.682553      60.157469  \n",
       "std         6.936822      18.181012  \n",
       "min        -5.400000       0.000000  \n",
       "25%        16.600000      48.500000  \n",
       "50%        21.100000      61.500000  \n",
       "75%        26.400000      73.000000  \n",
       "max        46.700000     100.000000  "
      ]
     },
     "execution_count": 9,
     "metadata": {},
     "output_type": "execute_result"
    }
   ],
   "source": [
    "datafile.describe()"
   ]
  },
  {
   "cell_type": "code",
   "execution_count": 10,
   "metadata": {
    "execution": {
     "iopub.execute_input": "2020-12-14T21:21:28.703860Z",
     "iopub.status.busy": "2020-12-14T21:21:28.703025Z",
     "iopub.status.idle": "2020-12-14T21:21:28.906870Z",
     "shell.execute_reply": "2020-12-14T21:21:28.906285Z"
    },
    "papermill": {
     "duration": 0.277798,
     "end_time": "2020-12-14T21:21:28.907007",
     "exception": false,
     "start_time": "2020-12-14T21:21:28.629209",
     "status": "completed"
    },
    "tags": []
   },
   "outputs": [
    {
     "data": {
      "text/plain": [
       "Text(0.5, 1.0, 'Albury nem-yağış')"
      ]
     },
     "execution_count": 10,
     "metadata": {},
     "output_type": "execute_result"
    },
    {
     "data": {
      "image/png": "[encoded data removed]",
      "text/plain": [
       "<Figure size 432x288 with 1 Axes>"
      ]
     },
     "metadata": {
      "needs_background": "light"
     },
     "output_type": "display_data"
    }
   ],
   "source": [
    "sns.boxplot(x = 'RainToday', y = 'humAvg', data = datafile[datafile[\"Location\"] == \"Albury\"]).set_title(\"Albury nem-yağış\")"
   ]
  },
  {
   "cell_type": "code",
   "execution_count": 11,
   "metadata": {
    "execution": {
     "iopub.execute_input": "2020-12-14T21:21:29.054636Z",
     "iopub.status.busy": "2020-12-14T21:21:29.053480Z",
     "iopub.status.idle": "2020-12-14T21:21:29.439534Z",
     "shell.execute_reply": "2020-12-14T21:21:29.438907Z"
    },
    "papermill": {
     "duration": 0.488748,
     "end_time": "2020-12-14T21:21:29.439666",
     "exception": false,
     "start_time": "2020-12-14T21:21:28.950918",
     "status": "completed"
    },
    "tags": []
   },
   "outputs": [
    {
     "data": {
      "text/plain": [
       "Text(0.5, 1.0, 'Albury and Sydney nem-yağış')"
      ]
     },
     "execution_count": 11,
     "metadata": {},
     "output_type": "execute_result"
    },
    {
     "data": {
      "image/png": "[encoded data removed]",
      "text/plain": [
       "<Figure size 432x288 with 1 Axes>"
      ]
     },
     "metadata": {
      "needs_background": "light"
     },
     "output_type": "display_data"
    }
   ],
   "source": [
    "sns.barplot(x = 'Location', y = 'humAvg', data = datafile[np.logical_or(datafile[\"Location\"] == \"Albury\", datafile[\"Location\"] == \"Sydney\")], hue = 'RainToday').set_title(\"Albury and Sydney nem-yağış\")\n"
   ]
  },
  {
   "cell_type": "markdown",
   "metadata": {
    "papermill": {
     "duration": 0.045537,
     "end_time": "2020-12-14T21:21:29.530800",
     "exception": false,
     "start_time": "2020-12-14T21:21:29.485263",
     "status": "completed"
    },
    "tags": []
   },
   "source": [
    "**Data pre-proccessing**"
   ]
  },
  {
   "cell_type": "code",
   "execution_count": 12,
   "metadata": {
    "execution": {
     "iopub.execute_input": "2020-12-14T21:21:29.672753Z",
     "iopub.status.busy": "2020-12-14T21:21:29.671942Z",
     "iopub.status.idle": "2020-12-14T21:21:29.682637Z",
     "shell.execute_reply": "2020-12-14T21:21:29.681989Z"
    },
    "papermill": {
     "duration": 0.106696,
     "end_time": "2020-12-14T21:21:29.682763",
     "exception": false,
     "start_time": "2020-12-14T21:21:29.576067",
     "status": "completed"
    },
    "tags": []
   },
   "outputs": [
    {
     "data": {
      "text/plain": [
       "Date            0\n",
       "Location        0\n",
       "MinTemp      1485\n",
       "MaxTemp      1261\n",
       "Rainfall     3260\n",
       "Temp9am      1767\n",
       "Temp3pm      3609\n",
       "RainToday    3260\n",
       "humAvg       5274\n",
       "dtype: int64"
      ]
     },
     "execution_count": 12,
     "metadata": {},
     "output_type": "execute_result"
    }
   ],
   "source": [
    "datafile.isnull().sum() # Eksik veri kontrolü"
   ]
  },
  {
   "cell_type": "code",
   "execution_count": 13,
   "metadata": {
    "execution": {
     "iopub.execute_input": "2020-12-14T21:21:29.819883Z",
     "iopub.status.busy": "2020-12-14T21:21:29.818540Z",
     "iopub.status.idle": "2020-12-14T21:21:29.823448Z",
     "shell.execute_reply": "2020-12-14T21:21:29.822828Z"
    },
    "papermill": {
     "duration": 0.094782,
     "end_time": "2020-12-14T21:21:29.823606",
     "exception": false,
     "start_time": "2020-12-14T21:21:29.728824",
     "status": "completed"
    },
    "tags": []
   },
   "outputs": [],
   "source": [
    "rainTodayCount = datafile['RainToday'].value_counts() # Bir nitelik için En sık geçen sınıfı bulma"
   ]
  },
  {
   "cell_type": "code",
   "execution_count": 14,
   "metadata": {
    "execution": {
     "iopub.execute_input": "2020-12-14T21:21:29.921993Z",
     "iopub.status.busy": "2020-12-14T21:21:29.921203Z",
     "iopub.status.idle": "2020-12-14T21:21:29.924812Z",
     "shell.execute_reply": "2020-12-14T21:21:29.924200Z"
    },
    "papermill": {
     "duration": 0.055395,
     "end_time": "2020-12-14T21:21:29.924942",
     "exception": false,
     "start_time": "2020-12-14T21:21:29.869547",
     "status": "completed"
    },
    "tags": []
   },
   "outputs": [],
   "source": [
    "rainTodayCount = rainTodayCount.fillna(\"no\") # Eksik verileri sabit bir değer ile tamamlama"
   ]
  },
  {
   "cell_type": "code",
   "execution_count": 15,
   "metadata": {
    "execution": {
     "iopub.execute_input": "2020-12-14T21:21:30.022808Z",
     "iopub.status.busy": "2020-12-14T21:21:30.021910Z",
     "iopub.status.idle": "2020-12-14T21:21:30.086258Z",
     "shell.execute_reply": "2020-12-14T21:21:30.085423Z"
    },
    "papermill": {
     "duration": 0.115325,
     "end_time": "2020-12-14T21:21:30.086390",
     "exception": false,
     "start_time": "2020-12-14T21:21:29.971065",
     "status": "completed"
    },
    "tags": []
   },
   "outputs": [],
   "source": [
    "from sklearn.preprocessing import LabelEncoder # Kategorik verileri donusturme"
   ]
  },
  {
   "cell_type": "code",
   "execution_count": 16,
   "metadata": {
    "execution": {
     "iopub.execute_input": "2020-12-14T21:21:30.205202Z",
     "iopub.status.busy": "2020-12-14T21:21:30.204179Z",
     "iopub.status.idle": "2020-12-14T21:21:30.330512Z",
     "shell.execute_reply": "2020-12-14T21:21:30.329833Z"
    },
    "papermill": {
     "duration": 0.197906,
     "end_time": "2020-12-14T21:21:30.330640",
     "exception": false,
     "start_time": "2020-12-14T21:21:30.132734",
     "status": "completed"
    },
    "tags": []
   },
   "outputs": [],
   "source": [
    "LE = LabelEncoder()\n",
    "\n",
    "datafile['RainTodayMap'] = datafile.RainToday.map({'NA':'no'})\n",
    "\n",
    "datafile['Location_Cat'] = LE.fit_transform(datafile['Location'])\n",
    "datafile['RainToday_Cat'] = LE.fit_transform(datafile['RainTodayMap'])"
   ]
  },
  {
   "cell_type": "code",
   "execution_count": 17,
   "metadata": {
    "execution": {
     "iopub.execute_input": "2020-12-14T21:21:30.430394Z",
     "iopub.status.busy": "2020-12-14T21:21:30.429610Z",
     "iopub.status.idle": "2020-12-14T21:21:30.459245Z",
     "shell.execute_reply": "2020-12-14T21:21:30.458432Z"
    },
    "papermill": {
     "duration": 0.082258,
     "end_time": "2020-12-14T21:21:30.459373",
     "exception": false,
     "start_time": "2020-12-14T21:21:30.377115",
     "status": "completed"
    },
    "tags": []
   },
   "outputs": [],
   "source": [
    "datafile.drop([\"Date\",\"Location\",\"RainTodayMap\",\"RainToday\"], axis=1, inplace=True)"
   ]
  },
  {
   "cell_type": "code",
   "execution_count": 18,
   "metadata": {
    "execution": {
     "iopub.execute_input": "2020-12-14T21:21:30.560849Z",
     "iopub.status.busy": "2020-12-14T21:21:30.560001Z",
     "iopub.status.idle": "2020-12-14T21:23:07.824753Z",
     "shell.execute_reply": "2020-12-14T21:23:07.824104Z"
    },
    "papermill": {
     "duration": 97.31862,
     "end_time": "2020-12-14T21:23:07.824897",
     "exception": false,
     "start_time": "2020-12-14T21:21:30.506277",
     "status": "completed"
    },
    "tags": []
   },
   "outputs": [],
   "source": [
    "from sklearn.impute import KNNImputer  # Eksik verileri KNN algoritması ile tamamlama\n",
    "imputer = KNNImputer(missing_values=np.nan, n_neighbors=5)\n",
    "\n",
    "datafile[:] = imputer.fit_transform(datafile)\n",
    "\n",
    "df = pd.DataFrame(datafile)"
   ]
  },
  {
   "cell_type": "code",
   "execution_count": 19,
   "metadata": {
    "execution": {
     "iopub.execute_input": "2020-12-14T21:23:07.924360Z",
     "iopub.status.busy": "2020-12-14T21:23:07.923323Z",
     "iopub.status.idle": "2020-12-14T21:23:07.926566Z",
     "shell.execute_reply": "2020-12-14T21:23:07.925946Z"
    },
    "papermill": {
     "duration": 0.054648,
     "end_time": "2020-12-14T21:23:07.926695",
     "exception": false,
     "start_time": "2020-12-14T21:23:07.872047",
     "status": "completed"
    },
    "tags": []
   },
   "outputs": [],
   "source": [
    "from sklearn.preprocessing import KBinsDiscretizer # Sürekli Verileri düzleştirme"
   ]
  },
  {
   "cell_type": "code",
   "execution_count": 20,
   "metadata": {
    "execution": {
     "iopub.execute_input": "2020-12-14T21:23:08.027031Z",
     "iopub.status.busy": "2020-12-14T21:23:08.026309Z",
     "iopub.status.idle": "2020-12-14T21:23:08.049910Z",
     "shell.execute_reply": "2020-12-14T21:23:08.049160Z"
    },
    "papermill": {
     "duration": 0.076774,
     "end_time": "2020-12-14T21:23:08.050030",
     "exception": false,
     "start_time": "2020-12-14T21:23:07.973256",
     "status": "completed"
    },
    "tags": []
   },
   "outputs": [],
   "source": [
    "Xbin = KBinsDiscretizer(n_bins=10, encode='ordinal', strategy='quantile') # Nem oranini 10 degerden olusan kategorik veriye donusturme\n",
    "df[\"humAvg\"] = Xbin.fit_transform(df[[\"humAvg\"]])"
   ]
  },
  {
   "cell_type": "code",
   "execution_count": 21,
   "metadata": {
    "execution": {
     "iopub.execute_input": "2020-12-14T21:23:08.165503Z",
     "iopub.status.busy": "2020-12-14T21:23:08.164465Z",
     "iopub.status.idle": "2020-12-14T21:23:08.168826Z",
     "shell.execute_reply": "2020-12-14T21:23:08.168142Z"
    },
    "papermill": {
     "duration": 0.07105,
     "end_time": "2020-12-14T21:23:08.168942",
     "exception": false,
     "start_time": "2020-12-14T21:23:08.097892",
     "status": "completed"
    },
    "tags": []
   },
   "outputs": [
    {
     "data": {
      "text/html": [
       "<div>\n",
       "<style scoped>\n",
       "    .dataframe tbody tr th:only-of-type {\n",
       "        vertical-align: middle;\n",
       "    }\n",
       "\n",
       "    .dataframe tbody tr th {\n",
       "        vertical-align: top;\n",
       "    }\n",
       "\n",
       "    .dataframe thead th {\n",
       "        text-align: right;\n",
       "    }\n",
       "</style>\n",
       "<table border=\"1\" class=\"dataframe\">\n",
       "  <thead>\n",
       "    <tr style=\"text-align: right;\">\n",
       "      <th></th>\n",
       "      <th>MinTemp</th>\n",
       "      <th>MaxTemp</th>\n",
       "      <th>Rainfall</th>\n",
       "      <th>Temp9am</th>\n",
       "      <th>Temp3pm</th>\n",
       "      <th>humAvg</th>\n",
       "      <th>Location_Cat</th>\n",
       "      <th>RainToday_Cat</th>\n",
       "    </tr>\n",
       "  </thead>\n",
       "  <tbody>\n",
       "    <tr>\n",
       "      <th>0</th>\n",
       "      <td>11.3</td>\n",
       "      <td>26.50</td>\n",
       "      <td>0.0</td>\n",
       "      <td>19.7</td>\n",
       "      <td>25.7</td>\n",
       "      <td>1.0</td>\n",
       "      <td>2.0</td>\n",
       "      <td>0.0</td>\n",
       "    </tr>\n",
       "    <tr>\n",
       "      <th>1</th>\n",
       "      <td>9.6</td>\n",
       "      <td>23.90</td>\n",
       "      <td>0.0</td>\n",
       "      <td>14.9</td>\n",
       "      <td>22.1</td>\n",
       "      <td>0.0</td>\n",
       "      <td>2.0</td>\n",
       "      <td>0.0</td>\n",
       "    </tr>\n",
       "    <tr>\n",
       "      <th>2</th>\n",
       "      <td>10.5</td>\n",
       "      <td>28.80</td>\n",
       "      <td>0.0</td>\n",
       "      <td>17.1</td>\n",
       "      <td>26.5</td>\n",
       "      <td>0.0</td>\n",
       "      <td>2.0</td>\n",
       "      <td>0.0</td>\n",
       "    </tr>\n",
       "    <tr>\n",
       "      <th>3</th>\n",
       "      <td>12.3</td>\n",
       "      <td>34.60</td>\n",
       "      <td>0.0</td>\n",
       "      <td>20.7</td>\n",
       "      <td>33.9</td>\n",
       "      <td>0.0</td>\n",
       "      <td>2.0</td>\n",
       "      <td>0.0</td>\n",
       "    </tr>\n",
       "    <tr>\n",
       "      <th>4</th>\n",
       "      <td>12.9</td>\n",
       "      <td>35.80</td>\n",
       "      <td>0.0</td>\n",
       "      <td>22.4</td>\n",
       "      <td>34.4</td>\n",
       "      <td>0.0</td>\n",
       "      <td>2.0</td>\n",
       "      <td>0.0</td>\n",
       "    </tr>\n",
       "    <tr>\n",
       "      <th>...</th>\n",
       "      <td>...</td>\n",
       "      <td>...</td>\n",
       "      <td>...</td>\n",
       "      <td>...</td>\n",
       "      <td>...</td>\n",
       "      <td>...</td>\n",
       "      <td>...</td>\n",
       "      <td>...</td>\n",
       "    </tr>\n",
       "    <tr>\n",
       "      <th>145424</th>\n",
       "      <td>2.8</td>\n",
       "      <td>23.40</td>\n",
       "      <td>0.0</td>\n",
       "      <td>10.1</td>\n",
       "      <td>22.4</td>\n",
       "      <td>1.0</td>\n",
       "      <td>41.0</td>\n",
       "      <td>0.0</td>\n",
       "    </tr>\n",
       "    <tr>\n",
       "      <th>145425</th>\n",
       "      <td>3.6</td>\n",
       "      <td>25.30</td>\n",
       "      <td>0.0</td>\n",
       "      <td>10.9</td>\n",
       "      <td>24.5</td>\n",
       "      <td>1.0</td>\n",
       "      <td>41.0</td>\n",
       "      <td>0.0</td>\n",
       "    </tr>\n",
       "    <tr>\n",
       "      <th>145426</th>\n",
       "      <td>5.4</td>\n",
       "      <td>26.90</td>\n",
       "      <td>0.0</td>\n",
       "      <td>12.5</td>\n",
       "      <td>26.1</td>\n",
       "      <td>1.0</td>\n",
       "      <td>41.0</td>\n",
       "      <td>0.0</td>\n",
       "    </tr>\n",
       "    <tr>\n",
       "      <th>145427</th>\n",
       "      <td>7.8</td>\n",
       "      <td>27.00</td>\n",
       "      <td>0.0</td>\n",
       "      <td>15.1</td>\n",
       "      <td>26.0</td>\n",
       "      <td>1.0</td>\n",
       "      <td>41.0</td>\n",
       "      <td>0.0</td>\n",
       "    </tr>\n",
       "    <tr>\n",
       "      <th>145428</th>\n",
       "      <td>14.9</td>\n",
       "      <td>21.18</td>\n",
       "      <td>0.0</td>\n",
       "      <td>15.0</td>\n",
       "      <td>20.9</td>\n",
       "      <td>2.0</td>\n",
       "      <td>41.0</td>\n",
       "      <td>0.0</td>\n",
       "    </tr>\n",
       "  </tbody>\n",
       "</table>\n",
       "<p>145429 rows × 8 columns</p>\n",
       "</div>"
      ],
      "text/plain": [
       "        MinTemp  MaxTemp  Rainfall  Temp9am  Temp3pm  humAvg  Location_Cat  \\\n",
       "0          11.3    26.50       0.0     19.7     25.7     1.0           2.0   \n",
       "1           9.6    23.90       0.0     14.9     22.1     0.0           2.0   \n",
       "2          10.5    28.80       0.0     17.1     26.5     0.0           2.0   \n",
       "3          12.3    34.60       0.0     20.7     33.9     0.0           2.0   \n",
       "4          12.9    35.80       0.0     22.4     34.4     0.0           2.0   \n",
       "...         ...      ...       ...      ...      ...     ...           ...   \n",
       "145424      2.8    23.40       0.0     10.1     22.4     1.0          41.0   \n",
       "145425      3.6    25.30       0.0     10.9     24.5     1.0          41.0   \n",
       "145426      5.4    26.90       0.0     12.5     26.1     1.0          41.0   \n",
       "145427      7.8    27.00       0.0     15.1     26.0     1.0          41.0   \n",
       "145428     14.9    21.18       0.0     15.0     20.9     2.0          41.0   \n",
       "\n",
       "        RainToday_Cat  \n",
       "0                 0.0  \n",
       "1                 0.0  \n",
       "2                 0.0  \n",
       "3                 0.0  \n",
       "4                 0.0  \n",
       "...               ...  \n",
       "145424            0.0  \n",
       "145425            0.0  \n",
       "145426            0.0  \n",
       "145427            0.0  \n",
       "145428            0.0  \n",
       "\n",
       "[145429 rows x 8 columns]"
      ]
     },
     "execution_count": 21,
     "metadata": {},
     "output_type": "execute_result"
    }
   ],
   "source": [
    "df ## Makine Öğrenimi Algoritmasının uygulanacağı veri seti"
   ]
  },
  {
   "cell_type": "markdown",
   "metadata": {
    "papermill": {
     "duration": 0.062294,
     "end_time": "2020-12-14T21:23:08.286992",
     "exception": false,
     "start_time": "2020-12-14T21:23:08.224698",
     "status": "completed"
    },
    "tags": []
   },
   "source": [
    "**Prepare train & test set**"
   ]
  },
  {
   "cell_type": "code",
   "execution_count": 22,
   "metadata": {
    "execution": {
     "iopub.execute_input": "2020-12-14T21:23:08.394985Z",
     "iopub.status.busy": "2020-12-14T21:23:08.394286Z",
     "iopub.status.idle": "2020-12-14T21:23:08.397364Z",
     "shell.execute_reply": "2020-12-14T21:23:08.396670Z"
    },
    "papermill": {
     "duration": 0.056138,
     "end_time": "2020-12-14T21:23:08.397480",
     "exception": false,
     "start_time": "2020-12-14T21:23:08.341342",
     "status": "completed"
    },
    "tags": []
   },
   "outputs": [],
   "source": [
    "X = df.loc[:,:\"Location_Cat\"]  # Sadece niteliklerden olusan Veriseti\n",
    "y = df.loc[:,\"RainToday_Cat\"] # Sinif etiketi"
   ]
  },
  {
   "cell_type": "code",
   "execution_count": 23,
   "metadata": {
    "execution": {
     "iopub.execute_input": "2020-12-14T21:23:08.503487Z",
     "iopub.status.busy": "2020-12-14T21:23:08.499420Z",
     "iopub.status.idle": "2020-12-14T21:23:08.519651Z",
     "shell.execute_reply": "2020-12-14T21:23:08.519026Z"
    },
    "papermill": {
     "duration": 0.074326,
     "end_time": "2020-12-14T21:23:08.519781",
     "exception": false,
     "start_time": "2020-12-14T21:23:08.445455",
     "status": "completed"
    },
    "tags": []
   },
   "outputs": [],
   "source": [
    "#Veri seti %70 train, %30 test olarak bölmek\n",
    "from sklearn.model_selection import train_test_split\n",
    "X_train, X_test, y_train, y_test = train_test_split(X, y, test_size = 0.30, random_state = 42)"
   ]
  },
  {
   "cell_type": "markdown",
   "metadata": {
    "papermill": {
     "duration": 0.048001,
     "end_time": "2020-12-14T21:23:08.616124",
     "exception": false,
     "start_time": "2020-12-14T21:23:08.568123",
     "status": "completed"
    },
    "tags": []
   },
   "source": [
    "**KNN ALGORITHM**"
   ]
  },
  {
   "cell_type": "code",
   "execution_count": 24,
   "metadata": {
    "execution": {
     "iopub.execute_input": "2020-12-14T21:23:08.720345Z",
     "iopub.status.busy": "2020-12-14T21:23:08.719626Z",
     "iopub.status.idle": "2020-12-14T21:23:14.264242Z",
     "shell.execute_reply": "2020-12-14T21:23:14.263618Z"
    },
    "papermill": {
     "duration": 5.600164,
     "end_time": "2020-12-14T21:23:14.264376",
     "exception": false,
     "start_time": "2020-12-14T21:23:08.664212",
     "status": "completed"
    },
    "tags": []
   },
   "outputs": [
    {
     "data": {
      "text/plain": [
       "KNeighborsClassifier()"
      ]
     },
     "execution_count": 24,
     "metadata": {},
     "output_type": "execute_result"
    }
   ],
   "source": [
    "from sklearn.neighbors import KNeighborsClassifier # KNN algoritması ---------------------------------------------------\n",
    "knn = KNeighborsClassifier(n_neighbors=5, metric='minkowski')\n",
    "\n",
    "knn.fit(X_train, y_train.ravel())"
   ]
  },
  {
   "cell_type": "code",
   "execution_count": 25,
   "metadata": {
    "execution": {
     "iopub.execute_input": "2020-12-14T21:23:14.369498Z",
     "iopub.status.busy": "2020-12-14T21:23:14.368765Z",
     "iopub.status.idle": "2020-12-14T21:23:17.777317Z",
     "shell.execute_reply": "2020-12-14T21:23:17.777832Z"
    },
    "papermill": {
     "duration": 3.464586,
     "end_time": "2020-12-14T21:23:17.777994",
     "exception": false,
     "start_time": "2020-12-14T21:23:14.313408",
     "status": "completed"
    },
    "tags": []
   },
   "outputs": [
    {
     "data": {
      "text/plain": [
       "array([0., 0., 0., ..., 0., 0., 0.])"
      ]
     },
     "execution_count": 25,
     "metadata": {},
     "output_type": "execute_result"
    }
   ],
   "source": [
    "# Modelin test verisi ile sınıflandırma yapması\n",
    "result = knn.predict(X_test)\n",
    "result"
   ]
  },
  {
   "cell_type": "code",
   "execution_count": 26,
   "metadata": {
    "execution": {
     "iopub.execute_input": "2020-12-14T21:23:17.883374Z",
     "iopub.status.busy": "2020-12-14T21:23:17.882591Z",
     "iopub.status.idle": "2020-12-14T21:23:17.891863Z",
     "shell.execute_reply": "2020-12-14T21:23:17.891067Z"
    },
    "papermill": {
     "duration": 0.063931,
     "end_time": "2020-12-14T21:23:17.891989",
     "exception": false,
     "start_time": "2020-12-14T21:23:17.828058",
     "status": "completed"
    },
    "tags": []
   },
   "outputs": [
    {
     "data": {
      "text/plain": [
       "1.0"
      ]
     },
     "execution_count": 26,
     "metadata": {},
     "output_type": "execute_result"
    }
   ],
   "source": [
    "# Modelin Sınıflandırma tahmin başarısının gösterilmesi\n",
    "from sklearn.metrics import accuracy_score #basari orani\n",
    "accuracy = accuracy_score(y_test, result)\n",
    "accuracy"
   ]
  },
  {
   "cell_type": "markdown",
   "metadata": {
    "papermill": {
     "duration": 0.049551,
     "end_time": "2020-12-14T21:23:17.991845",
     "exception": false,
     "start_time": "2020-12-14T21:23:17.942294",
     "status": "completed"
    },
    "tags": []
   },
   "source": [
    "> KNN Modelinin kaydedilip tekrar kullanılması"
   ]
  },
  {
   "cell_type": "code",
   "execution_count": 27,
   "metadata": {
    "execution": {
     "iopub.execute_input": "2020-12-14T21:23:18.101192Z",
     "iopub.status.busy": "2020-12-14T21:23:18.100453Z",
     "iopub.status.idle": "2020-12-14T21:23:21.452884Z",
     "shell.execute_reply": "2020-12-14T21:23:21.452293Z"
    },
    "papermill": {
     "duration": 3.410312,
     "end_time": "2020-12-14T21:23:21.452998",
     "exception": false,
     "start_time": "2020-12-14T21:23:18.042686",
     "status": "completed"
    },
    "tags": []
   },
   "outputs": [
    {
     "data": {
      "text/plain": [
       "array([0., 0., 0., ..., 0., 0., 0.])"
      ]
     },
     "execution_count": 27,
     "metadata": {},
     "output_type": "execute_result"
    }
   ],
   "source": [
    "import pickle\n",
    "with open('knnmodel.pkl', 'wb') as f:\n",
    "    pickle.dump(knn, f)\n",
    "knn_2 = pickle.load(open('knnmodel.pkl', 'rb'))\n",
    "result2 = knn_2.predict(X_test)\n",
    "result2"
   ]
  },
  {
   "cell_type": "code",
   "execution_count": 28,
   "metadata": {
    "execution": {
     "iopub.execute_input": "2020-12-14T21:23:21.559252Z",
     "iopub.status.busy": "2020-12-14T21:23:21.558481Z",
     "iopub.status.idle": "2020-12-14T21:23:21.567441Z",
     "shell.execute_reply": "2020-12-14T21:23:21.566865Z"
    },
    "papermill": {
     "duration": 0.063978,
     "end_time": "2020-12-14T21:23:21.567563",
     "exception": false,
     "start_time": "2020-12-14T21:23:21.503585",
     "status": "completed"
    },
    "tags": []
   },
   "outputs": [
    {
     "data": {
      "text/plain": [
       "1.0"
      ]
     },
     "execution_count": 28,
     "metadata": {},
     "output_type": "execute_result"
    }
   ],
   "source": [
    "accuracy2 = accuracy_score(y_test, result2)\n",
    "accuracy2"
   ]
  },
  {
   "cell_type": "markdown",
   "metadata": {
    "papermill": {
     "duration": 0.050569,
     "end_time": "2020-12-14T21:23:21.669822",
     "exception": false,
     "start_time": "2020-12-14T21:23:21.619253",
     "status": "completed"
    },
    "tags": []
   },
   "source": [
    "> KNN Karmaşıklık matrisi"
   ]
  },
  {
   "cell_type": "code",
   "execution_count": 29,
   "metadata": {
    "execution": {
     "iopub.execute_input": "2020-12-14T21:23:21.778102Z",
     "iopub.status.busy": "2020-12-14T21:23:21.777022Z",
     "iopub.status.idle": "2020-12-14T21:23:22.145324Z",
     "shell.execute_reply": "2020-12-14T21:23:22.144574Z"
    },
    "papermill": {
     "duration": 0.424635,
     "end_time": "2020-12-14T21:23:22.145448",
     "exception": false,
     "start_time": "2020-12-14T21:23:21.720813",
     "status": "completed"
    },
    "tags": []
   },
   "outputs": [
    {
     "data": {
      "text/plain": [
       "array([[43629,     0],\n",
       "       [    0,     0]])"
      ]
     },
     "execution_count": 29,
     "metadata": {},
     "output_type": "execute_result"
    }
   ],
   "source": [
    "from sklearn.metrics import confusion_matrix #karmasiklik matrisi\n",
    "cm = confusion_matrix(y_test, result2, labels=[0,1])\n",
    "cm"
   ]
  },
  {
   "cell_type": "markdown",
   "metadata": {
    "papermill": {
     "duration": 0.051497,
     "end_time": "2020-12-14T21:23:22.248705",
     "exception": false,
     "start_time": "2020-12-14T21:23:22.197208",
     "status": "completed"
    },
    "tags": []
   },
   "source": [
    "**Decision Tree ALGORITHM**"
   ]
  },
  {
   "cell_type": "code",
   "execution_count": 30,
   "metadata": {
    "execution": {
     "iopub.execute_input": "2020-12-14T21:23:22.359398Z",
     "iopub.status.busy": "2020-12-14T21:23:22.358588Z",
     "iopub.status.idle": "2020-12-14T21:23:22.405738Z",
     "shell.execute_reply": "2020-12-14T21:23:22.405004Z"
    },
    "papermill": {
     "duration": 0.104035,
     "end_time": "2020-12-14T21:23:22.405858",
     "exception": false,
     "start_time": "2020-12-14T21:23:22.301823",
     "status": "completed"
    },
    "tags": []
   },
   "outputs": [
    {
     "data": {
      "text/plain": [
       "DecisionTreeClassifier(random_state=42)"
      ]
     },
     "execution_count": 30,
     "metadata": {},
     "output_type": "execute_result"
    }
   ],
   "source": [
    "from sklearn.tree import DecisionTreeClassifier \n",
    "dtc = DecisionTreeClassifier(random_state=42)\n",
    "\n",
    "dtc.fit(X_train, y_train)"
   ]
  },
  {
   "cell_type": "code",
   "execution_count": 31,
   "metadata": {
    "execution": {
     "iopub.execute_input": "2020-12-14T21:23:22.517535Z",
     "iopub.status.busy": "2020-12-14T21:23:22.516789Z",
     "iopub.status.idle": "2020-12-14T21:23:22.522499Z",
     "shell.execute_reply": "2020-12-14T21:23:22.523022Z"
    },
    "papermill": {
     "duration": 0.065068,
     "end_time": "2020-12-14T21:23:22.523214",
     "exception": false,
     "start_time": "2020-12-14T21:23:22.458146",
     "status": "completed"
    },
    "tags": []
   },
   "outputs": [
    {
     "data": {
      "text/plain": [
       "array([0., 0., 0., ..., 0., 0., 0.])"
      ]
     },
     "execution_count": 31,
     "metadata": {},
     "output_type": "execute_result"
    }
   ],
   "source": [
    "result = dtc.predict(X_test)\n",
    "result"
   ]
  },
  {
   "cell_type": "code",
   "execution_count": 32,
   "metadata": {
    "execution": {
     "iopub.execute_input": "2020-12-14T21:23:22.635137Z",
     "iopub.status.busy": "2020-12-14T21:23:22.634356Z",
     "iopub.status.idle": "2020-12-14T21:23:22.642304Z",
     "shell.execute_reply": "2020-12-14T21:23:22.642972Z"
    },
    "papermill": {
     "duration": 0.06691,
     "end_time": "2020-12-14T21:23:22.643189",
     "exception": false,
     "start_time": "2020-12-14T21:23:22.576279",
     "status": "completed"
    },
    "tags": []
   },
   "outputs": [
    {
     "data": {
      "text/plain": [
       "1.0"
      ]
     },
     "execution_count": 32,
     "metadata": {},
     "output_type": "execute_result"
    }
   ],
   "source": [
    "accuracy = accuracy_score(y_test, result) #basari orani\n",
    "accuracy"
   ]
  },
  {
   "cell_type": "markdown",
   "metadata": {
    "papermill": {
     "duration": 0.053281,
     "end_time": "2020-12-14T21:23:22.750132",
     "exception": false,
     "start_time": "2020-12-14T21:23:22.696851",
     "status": "completed"
    },
    "tags": []
   },
   "source": [
    "> Decision Tree Modelinin kaydedilip tekrar kullanılması"
   ]
  },
  {
   "cell_type": "code",
   "execution_count": 33,
   "metadata": {
    "execution": {
     "iopub.execute_input": "2020-12-14T21:23:22.864760Z",
     "iopub.status.busy": "2020-12-14T21:23:22.863341Z",
     "iopub.status.idle": "2020-12-14T21:23:26.180927Z",
     "shell.execute_reply": "2020-12-14T21:23:26.180290Z"
    },
    "papermill": {
     "duration": 3.377255,
     "end_time": "2020-12-14T21:23:26.181042",
     "exception": false,
     "start_time": "2020-12-14T21:23:22.803787",
     "status": "completed"
    },
    "tags": []
   },
   "outputs": [
    {
     "data": {
      "text/plain": [
       "array([0., 0., 0., ..., 0., 0., 0.])"
      ]
     },
     "execution_count": 33,
     "metadata": {},
     "output_type": "execute_result"
    }
   ],
   "source": [
    "import pickle\n",
    "with open('dtcmodel.pkl', 'wb') as f:\n",
    "    pickle.dump(knn, f)\n",
    "dtc_2 = pickle.load(open('dtcmodel.pkl', 'rb'))\n",
    "result2 = knn_2.predict(X_test)\n",
    "result2"
   ]
  },
  {
   "cell_type": "code",
   "execution_count": 34,
   "metadata": {
    "execution": {
     "iopub.execute_input": "2020-12-14T21:23:26.296195Z",
     "iopub.status.busy": "2020-12-14T21:23:26.295451Z",
     "iopub.status.idle": "2020-12-14T21:23:26.303987Z",
     "shell.execute_reply": "2020-12-14T21:23:26.304517Z"
    },
    "papermill": {
     "duration": 0.068737,
     "end_time": "2020-12-14T21:23:26.304686",
     "exception": false,
     "start_time": "2020-12-14T21:23:26.235949",
     "status": "completed"
    },
    "tags": []
   },
   "outputs": [
    {
     "data": {
      "text/plain": [
       "1.0"
      ]
     },
     "execution_count": 34,
     "metadata": {},
     "output_type": "execute_result"
    }
   ],
   "source": [
    "accuracy2 = accuracy_score(y_test, result2)\n",
    "accuracy2"
   ]
  },
  {
   "cell_type": "markdown",
   "metadata": {
    "papermill": {
     "duration": 0.054199,
     "end_time": "2020-12-14T21:23:26.413632",
     "exception": false,
     "start_time": "2020-12-14T21:23:26.359433",
     "status": "completed"
    },
    "tags": []
   },
   "source": [
    "*Decision Tree karmaşıklık matrisi*"
   ]
  },
  {
   "cell_type": "code",
   "execution_count": 35,
   "metadata": {
    "execution": {
     "iopub.execute_input": "2020-12-14T21:23:26.529516Z",
     "iopub.status.busy": "2020-12-14T21:23:26.528596Z",
     "iopub.status.idle": "2020-12-14T21:23:26.896870Z",
     "shell.execute_reply": "2020-12-14T21:23:26.897398Z"
    },
    "papermill": {
     "duration": 0.429308,
     "end_time": "2020-12-14T21:23:26.897549",
     "exception": false,
     "start_time": "2020-12-14T21:23:26.468241",
     "status": "completed"
    },
    "tags": []
   },
   "outputs": [
    {
     "data": {
      "text/plain": [
       "array([[43629,     0],\n",
       "       [    0,     0]])"
      ]
     },
     "execution_count": 35,
     "metadata": {},
     "output_type": "execute_result"
    }
   ],
   "source": [
    "cm = confusion_matrix(y_test, result2, labels=[0,1])\n",
    "cm"
   ]
  },
  {
   "cell_type": "markdown",
   "metadata": {
    "papermill": {
     "duration": 0.055031,
     "end_time": "2020-12-14T21:23:27.007839",
     "exception": false,
     "start_time": "2020-12-14T21:23:26.952808",
     "status": "completed"
    },
    "tags": []
   },
   "source": [
    "**NaiveBayes ALGORITHM(GaussianNB)**"
   ]
  },
  {
   "cell_type": "code",
   "execution_count": 36,
   "metadata": {
    "execution": {
     "iopub.execute_input": "2020-12-14T21:23:27.124429Z",
     "iopub.status.busy": "2020-12-14T21:23:27.123706Z",
     "iopub.status.idle": "2020-12-14T21:23:27.153227Z",
     "shell.execute_reply": "2020-12-14T21:23:27.152644Z"
    },
    "papermill": {
     "duration": 0.089911,
     "end_time": "2020-12-14T21:23:27.153352",
     "exception": false,
     "start_time": "2020-12-14T21:23:27.063441",
     "status": "completed"
    },
    "tags": []
   },
   "outputs": [
    {
     "data": {
      "text/plain": [
       "GaussianNB()"
      ]
     },
     "execution_count": 36,
     "metadata": {},
     "output_type": "execute_result"
    }
   ],
   "source": [
    "from sklearn.naive_bayes import GaussianNB \n",
    "gnb = GaussianNB()\n",
    "\n",
    "gnb.fit(X_train, y_train.ravel())"
   ]
  },
  {
   "cell_type": "code",
   "execution_count": 37,
   "metadata": {
    "execution": {
     "iopub.execute_input": "2020-12-14T21:23:27.275367Z",
     "iopub.status.busy": "2020-12-14T21:23:27.274638Z",
     "iopub.status.idle": "2020-12-14T21:23:27.281177Z",
     "shell.execute_reply": "2020-12-14T21:23:27.281745Z"
    },
    "papermill": {
     "duration": 0.069866,
     "end_time": "2020-12-14T21:23:27.281889",
     "exception": false,
     "start_time": "2020-12-14T21:23:27.212023",
     "status": "completed"
    },
    "tags": []
   },
   "outputs": [
    {
     "data": {
      "text/plain": [
       "array([0., 0., 0., ..., 0., 0., 0.])"
      ]
     },
     "execution_count": 37,
     "metadata": {},
     "output_type": "execute_result"
    }
   ],
   "source": [
    "result = gnb.predict(X_test)\n",
    "result"
   ]
  },
  {
   "cell_type": "code",
   "execution_count": 38,
   "metadata": {
    "execution": {
     "iopub.execute_input": "2020-12-14T21:23:27.400326Z",
     "iopub.status.busy": "2020-12-14T21:23:27.399246Z",
     "iopub.status.idle": "2020-12-14T21:23:27.408990Z",
     "shell.execute_reply": "2020-12-14T21:23:27.408398Z"
    },
    "papermill": {
     "duration": 0.070813,
     "end_time": "2020-12-14T21:23:27.409125",
     "exception": false,
     "start_time": "2020-12-14T21:23:27.338312",
     "status": "completed"
    },
    "tags": []
   },
   "outputs": [
    {
     "data": {
      "text/plain": [
       "1.0"
      ]
     },
     "execution_count": 38,
     "metadata": {},
     "output_type": "execute_result"
    }
   ],
   "source": [
    "accuracy = accuracy_score(y_test, result) #basari orani\n",
    "accuracy"
   ]
  },
  {
   "cell_type": "markdown",
   "metadata": {
    "papermill": {
     "duration": 0.056869,
     "end_time": "2020-12-14T21:23:27.522802",
     "exception": false,
     "start_time": "2020-12-14T21:23:27.465933",
     "status": "completed"
    },
    "tags": []
   },
   "source": [
    "*NaiveBayes Modelinin kaydedilip tekrar kullanılması*"
   ]
  },
  {
   "cell_type": "code",
   "execution_count": 39,
   "metadata": {
    "execution": {
     "iopub.execute_input": "2020-12-14T21:23:27.643592Z",
     "iopub.status.busy": "2020-12-14T21:23:27.642851Z",
     "iopub.status.idle": "2020-12-14T21:23:30.975298Z",
     "shell.execute_reply": "2020-12-14T21:23:30.974667Z"
    },
    "papermill": {
     "duration": 3.395795,
     "end_time": "2020-12-14T21:23:30.975420",
     "exception": false,
     "start_time": "2020-12-14T21:23:27.579625",
     "status": "completed"
    },
    "tags": []
   },
   "outputs": [
    {
     "data": {
      "text/plain": [
       "array([0., 0., 0., ..., 0., 0., 0.])"
      ]
     },
     "execution_count": 39,
     "metadata": {},
     "output_type": "execute_result"
    }
   ],
   "source": [
    "import pickle\n",
    "with open('gnbmodel.pkl', 'wb') as f:\n",
    "    pickle.dump(knn, f)\n",
    "gnb_2 = pickle.load(open('gnbmodel.pkl', 'rb'))\n",
    "result2 = knn_2.predict(X_test)\n",
    "result2"
   ]
  },
  {
   "cell_type": "code",
   "execution_count": 40,
   "metadata": {
    "execution": {
     "iopub.execute_input": "2020-12-14T21:23:31.103729Z",
     "iopub.status.busy": "2020-12-14T21:23:31.102727Z",
     "iopub.status.idle": "2020-12-14T21:23:31.113606Z",
     "shell.execute_reply": "2020-12-14T21:23:31.112859Z"
    },
    "papermill": {
     "duration": 0.080561,
     "end_time": "2020-12-14T21:23:31.113732",
     "exception": false,
     "start_time": "2020-12-14T21:23:31.033171",
     "status": "completed"
    },
    "tags": []
   },
   "outputs": [
    {
     "data": {
      "text/plain": [
       "1.0"
      ]
     },
     "execution_count": 40,
     "metadata": {},
     "output_type": "execute_result"
    }
   ],
   "source": [
    "accuracy2 = accuracy_score(y_test, result2)\n",
    "accuracy2"
   ]
  },
  {
   "cell_type": "markdown",
   "metadata": {
    "papermill": {
     "duration": 0.058292,
     "end_time": "2020-12-14T21:23:31.230287",
     "exception": false,
     "start_time": "2020-12-14T21:23:31.171995",
     "status": "completed"
    },
    "tags": []
   },
   "source": [
    "*NaiveBayes karmaşıklık matrisi*"
   ]
  },
  {
   "cell_type": "code",
   "execution_count": 41,
   "metadata": {
    "execution": {
     "iopub.execute_input": "2020-12-14T21:23:31.354059Z",
     "iopub.status.busy": "2020-12-14T21:23:31.353027Z",
     "iopub.status.idle": "2020-12-14T21:23:31.723113Z",
     "shell.execute_reply": "2020-12-14T21:23:31.722523Z"
    },
    "papermill": {
     "duration": 0.433971,
     "end_time": "2020-12-14T21:23:31.723238",
     "exception": false,
     "start_time": "2020-12-14T21:23:31.289267",
     "status": "completed"
    },
    "tags": []
   },
   "outputs": [
    {
     "data": {
      "text/plain": [
       "array([[43629,     0],\n",
       "       [    0,     0]])"
      ]
     },
     "execution_count": 41,
     "metadata": {},
     "output_type": "execute_result"
    }
   ],
   "source": [
    "cm = confusion_matrix(y_test, result2, labels=[0,1]) #karmasiklik matrisi\n",
    "cm"
   ]
  }
 ],
 "metadata": {
  "kernelspec": {
   "display_name": "Python 3",
   "language": "python",
   "name": "python3"
  },
  "language_info": {
   "codemirror_mode": {
    "name": "ipython",
    "version": 3
   },
   "file_extension": ".py",
   "mimetype": "text/x-python",
   "name": "python",
   "nbconvert_exporter": "python",
   "pygments_lexer": "ipython3",
   "version": "3.7.6"
  },
  "papermill": {
   "duration": 131.332976,
   "end_time": "2020-12-14T21:23:31.889652",
   "environment_variables": {},
   "exception": null,
   "input_path": "__notebook__.ipynb",
   "output_path": "__notebook__.ipynb",
   "parameters": {},
   "start_time": "2020-12-14T21:21:20.556676",
   "version": "2.1.0"
  }
 },
 "nbformat": 4,
 "nbformat_minor": 4
}
